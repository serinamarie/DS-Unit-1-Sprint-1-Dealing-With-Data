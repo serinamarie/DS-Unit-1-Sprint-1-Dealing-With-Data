{
  "nbformat": 4,
  "nbformat_minor": 0,
  "metadata": {
    "colab": {
      "name": "Grill_LS_DS_111_A_First_Look_at_Data.ipynb",
      "version": "0.3.2",
      "provenance": [],
      "collapsed_sections": [],
      "include_colab_link": true
    },
    "kernelspec": {
      "name": "python3",
      "display_name": "Python 3"
    }
  },
  "cells": [
    {
      "cell_type": "markdown",
      "metadata": {
        "id": "view-in-github",
        "colab_type": "text"
      },
      "source": [
        "<a href=\"https://colab.research.google.com/github/serinamarie/DS-Unit-1-Sprint-1-Dealing-With-Data/blob/master/Grill_LS_DS_111_A_First_Look_at_Data.ipynb\" target=\"_parent\"><img src=\"https://colab.research.google.com/assets/colab-badge.svg\" alt=\"Open In Colab\"/></a>"
      ]
    },
    {
      "cell_type": "markdown",
      "metadata": {
        "id": "Okfr_uhwhS1X",
        "colab_type": "text"
      },
      "source": [
        "# Lambda School Data Science - A First Look at Data\n",
        "\n"
      ]
    },
    {
      "cell_type": "markdown",
      "metadata": {
        "id": "9dtJETFRhnOG",
        "colab_type": "text"
      },
      "source": [
        "## Lecture - let's explore Python DS libraries and examples!\n",
        "\n",
        "The Python Data Science ecosystem is huge. You've seen some of the big pieces - pandas, scikit-learn, matplotlib. What parts do you want to see more of?"
      ]
    },
    {
      "cell_type": "code",
      "metadata": {
        "id": "WiBkgmPJhmhE",
        "colab_type": "code",
        "colab": {}
      },
      "source": [
        "import pandas as pd\n",
        "import matplotlib.pyplot as plt\n",
        "%matplotlib inline\n",
        "import seaborn as sns"
      ],
      "execution_count": 0,
      "outputs": []
    },
    {
      "cell_type": "code",
      "metadata": {
        "id": "Zizm5p0zaY34",
        "colab_type": "code",
        "colab": {}
      },
      "source": [
        "df = pd.read_csv(\"https://projects.fivethirtyeight.com/trump-approval-data/approval_polllist.csv\")"
      ],
      "execution_count": 0,
      "outputs": []
    },
    {
      "cell_type": "code",
      "metadata": {
        "id": "Sn898fAce3LK",
        "colab_type": "code",
        "colab": {
          "base_uri": "https://localhost:8080/",
          "height": 34
        },
        "outputId": "c24d45e3-32f9-4a35-bb54-6126bfbff54b"
      },
      "source": [
        "print(df.shape)"
      ],
      "execution_count": 45,
      "outputs": [
        {
          "output_type": "stream",
          "text": [
            "(8985, 22)\n"
          ],
          "name": "stdout"
        }
      ]
    },
    {
      "cell_type": "code",
      "metadata": {
        "id": "bWXWMFwJfEc8",
        "colab_type": "code",
        "colab": {
          "base_uri": "https://localhost:8080/",
          "height": 343
        },
        "outputId": "a2ad129e-3095-4803-a50f-65309b49d818"
      },
      "source": [
        "df.head()"
      ],
      "execution_count": 46,
      "outputs": [
        {
          "output_type": "execute_result",
          "data": {
            "text/html": [
              "<div>\n",
              "<style scoped>\n",
              "    .dataframe tbody tr th:only-of-type {\n",
              "        vertical-align: middle;\n",
              "    }\n",
              "\n",
              "    .dataframe tbody tr th {\n",
              "        vertical-align: top;\n",
              "    }\n",
              "\n",
              "    .dataframe thead th {\n",
              "        text-align: right;\n",
              "    }\n",
              "</style>\n",
              "<table border=\"1\" class=\"dataframe\">\n",
              "  <thead>\n",
              "    <tr style=\"text-align: right;\">\n",
              "      <th></th>\n",
              "      <th>president</th>\n",
              "      <th>subgroup</th>\n",
              "      <th>modeldate</th>\n",
              "      <th>startdate</th>\n",
              "      <th>enddate</th>\n",
              "      <th>pollster</th>\n",
              "      <th>grade</th>\n",
              "      <th>samplesize</th>\n",
              "      <th>population</th>\n",
              "      <th>weight</th>\n",
              "      <th>influence</th>\n",
              "      <th>approve</th>\n",
              "      <th>disapprove</th>\n",
              "      <th>adjusted_approve</th>\n",
              "      <th>adjusted_disapprove</th>\n",
              "      <th>multiversions</th>\n",
              "      <th>tracking</th>\n",
              "      <th>url</th>\n",
              "      <th>poll_id</th>\n",
              "      <th>question_id</th>\n",
              "      <th>createddate</th>\n",
              "      <th>timestamp</th>\n",
              "    </tr>\n",
              "  </thead>\n",
              "  <tbody>\n",
              "    <tr>\n",
              "      <th>0</th>\n",
              "      <td>Donald Trump</td>\n",
              "      <td>All polls</td>\n",
              "      <td>7/10/2019</td>\n",
              "      <td>1/20/2017</td>\n",
              "      <td>1/22/2017</td>\n",
              "      <td>Gallup</td>\n",
              "      <td>B</td>\n",
              "      <td>1500.0</td>\n",
              "      <td>a</td>\n",
              "      <td>0.245429</td>\n",
              "      <td>0.0</td>\n",
              "      <td>45.0</td>\n",
              "      <td>45.0</td>\n",
              "      <td>46.11691</td>\n",
              "      <td>43.25077</td>\n",
              "      <td>NaN</td>\n",
              "      <td>T</td>\n",
              "      <td>http://www.gallup.com/poll/201617/gallup-daily...</td>\n",
              "      <td>49253</td>\n",
              "      <td>77265</td>\n",
              "      <td>1/23/2017</td>\n",
              "      <td>17:32:53 10 Jul 2019</td>\n",
              "    </tr>\n",
              "    <tr>\n",
              "      <th>1</th>\n",
              "      <td>Donald Trump</td>\n",
              "      <td>All polls</td>\n",
              "      <td>7/10/2019</td>\n",
              "      <td>1/20/2017</td>\n",
              "      <td>1/22/2017</td>\n",
              "      <td>Morning Consult</td>\n",
              "      <td>B-</td>\n",
              "      <td>1992.0</td>\n",
              "      <td>rv</td>\n",
              "      <td>0.944206</td>\n",
              "      <td>0.0</td>\n",
              "      <td>46.0</td>\n",
              "      <td>37.0</td>\n",
              "      <td>44.10444</td>\n",
              "      <td>38.85347</td>\n",
              "      <td>NaN</td>\n",
              "      <td>NaN</td>\n",
              "      <td>http://static.politico.com/9b/13/82a3baf542ae9...</td>\n",
              "      <td>49249</td>\n",
              "      <td>77261</td>\n",
              "      <td>1/23/2017</td>\n",
              "      <td>17:32:53 10 Jul 2019</td>\n",
              "    </tr>\n",
              "    <tr>\n",
              "      <th>2</th>\n",
              "      <td>Donald Trump</td>\n",
              "      <td>All polls</td>\n",
              "      <td>7/10/2019</td>\n",
              "      <td>1/20/2017</td>\n",
              "      <td>1/24/2017</td>\n",
              "      <td>Ipsos</td>\n",
              "      <td>B+</td>\n",
              "      <td>1632.0</td>\n",
              "      <td>a</td>\n",
              "      <td>0.224456</td>\n",
              "      <td>0.0</td>\n",
              "      <td>42.1</td>\n",
              "      <td>45.2</td>\n",
              "      <td>42.81495</td>\n",
              "      <td>43.93185</td>\n",
              "      <td>NaN</td>\n",
              "      <td>T</td>\n",
              "      <td>http://polling.reuters.com/#poll/CP3_2/</td>\n",
              "      <td>49426</td>\n",
              "      <td>77599</td>\n",
              "      <td>3/1/2017</td>\n",
              "      <td>17:32:53 10 Jul 2019</td>\n",
              "    </tr>\n",
              "    <tr>\n",
              "      <th>3</th>\n",
              "      <td>Donald Trump</td>\n",
              "      <td>All polls</td>\n",
              "      <td>7/10/2019</td>\n",
              "      <td>1/21/2017</td>\n",
              "      <td>1/23/2017</td>\n",
              "      <td>Gallup</td>\n",
              "      <td>B</td>\n",
              "      <td>1500.0</td>\n",
              "      <td>a</td>\n",
              "      <td>0.226788</td>\n",
              "      <td>0.0</td>\n",
              "      <td>45.0</td>\n",
              "      <td>46.0</td>\n",
              "      <td>46.11691</td>\n",
              "      <td>44.25077</td>\n",
              "      <td>NaN</td>\n",
              "      <td>T</td>\n",
              "      <td>http://www.gallup.com/poll/201617/gallup-daily...</td>\n",
              "      <td>49262</td>\n",
              "      <td>77274</td>\n",
              "      <td>1/24/2017</td>\n",
              "      <td>17:32:53 10 Jul 2019</td>\n",
              "    </tr>\n",
              "    <tr>\n",
              "      <th>4</th>\n",
              "      <td>Donald Trump</td>\n",
              "      <td>All polls</td>\n",
              "      <td>7/10/2019</td>\n",
              "      <td>1/22/2017</td>\n",
              "      <td>1/24/2017</td>\n",
              "      <td>Rasmussen Reports/Pulse Opinion Research</td>\n",
              "      <td>C+</td>\n",
              "      <td>1500.0</td>\n",
              "      <td>lv</td>\n",
              "      <td>0.220390</td>\n",
              "      <td>0.0</td>\n",
              "      <td>57.0</td>\n",
              "      <td>43.0</td>\n",
              "      <td>51.37431</td>\n",
              "      <td>44.21580</td>\n",
              "      <td>NaN</td>\n",
              "      <td>T</td>\n",
              "      <td>http://www.rasmussenreports.com/public_content...</td>\n",
              "      <td>49266</td>\n",
              "      <td>77278</td>\n",
              "      <td>1/25/2017</td>\n",
              "      <td>17:32:53 10 Jul 2019</td>\n",
              "    </tr>\n",
              "  </tbody>\n",
              "</table>\n",
              "</div>"
            ],
            "text/plain": [
              "      president   subgroup  ... createddate             timestamp\n",
              "0  Donald Trump  All polls  ...   1/23/2017  17:32:53 10 Jul 2019\n",
              "1  Donald Trump  All polls  ...   1/23/2017  17:32:53 10 Jul 2019\n",
              "2  Donald Trump  All polls  ...    3/1/2017  17:32:53 10 Jul 2019\n",
              "3  Donald Trump  All polls  ...   1/24/2017  17:32:53 10 Jul 2019\n",
              "4  Donald Trump  All polls  ...   1/25/2017  17:32:53 10 Jul 2019\n",
              "\n",
              "[5 rows x 22 columns]"
            ]
          },
          "metadata": {
            "tags": []
          },
          "execution_count": 46
        }
      ]
    },
    {
      "cell_type": "code",
      "metadata": {
        "id": "_PHmguM2p1tH",
        "colab_type": "code",
        "colab": {
          "base_uri": "https://localhost:8080/",
          "height": 297
        },
        "outputId": "8b47c654-d0a1-46ea-849c-f974dcb81f40"
      },
      "source": [
        "df.describe()"
      ],
      "execution_count": 73,
      "outputs": [
        {
          "output_type": "execute_result",
          "data": {
            "text/html": [
              "<div>\n",
              "<style scoped>\n",
              "    .dataframe tbody tr th:only-of-type {\n",
              "        vertical-align: middle;\n",
              "    }\n",
              "\n",
              "    .dataframe tbody tr th {\n",
              "        vertical-align: top;\n",
              "    }\n",
              "\n",
              "    .dataframe thead th {\n",
              "        text-align: right;\n",
              "    }\n",
              "</style>\n",
              "<table border=\"1\" class=\"dataframe\">\n",
              "  <thead>\n",
              "    <tr style=\"text-align: right;\">\n",
              "      <th></th>\n",
              "      <th>samplesize</th>\n",
              "      <th>weight</th>\n",
              "      <th>influence</th>\n",
              "      <th>approve</th>\n",
              "      <th>disapprove</th>\n",
              "      <th>adjusted_approve</th>\n",
              "      <th>adjusted_disapprove</th>\n",
              "      <th>poll_id</th>\n",
              "      <th>question_id</th>\n",
              "    </tr>\n",
              "  </thead>\n",
              "  <tbody>\n",
              "    <tr>\n",
              "      <th>count</th>\n",
              "      <td>8985.000000</td>\n",
              "      <td>8985.000000</td>\n",
              "      <td>8985.000000</td>\n",
              "      <td>8985.000000</td>\n",
              "      <td>8985.000000</td>\n",
              "      <td>8985.000000</td>\n",
              "      <td>8985.000000</td>\n",
              "      <td>8985.000000</td>\n",
              "      <td>8985.000000</td>\n",
              "    </tr>\n",
              "    <tr>\n",
              "      <th>mean</th>\n",
              "      <td>2096.950417</td>\n",
              "      <td>0.385447</td>\n",
              "      <td>0.003826</td>\n",
              "      <td>42.174954</td>\n",
              "      <td>53.646574</td>\n",
              "      <td>41.153583</td>\n",
              "      <td>53.416222</td>\n",
              "      <td>53564.050640</td>\n",
              "      <td>85733.409794</td>\n",
              "    </tr>\n",
              "    <tr>\n",
              "      <th>std</th>\n",
              "      <td>2740.216719</td>\n",
              "      <td>0.473484</td>\n",
              "      <td>0.045564</td>\n",
              "      <td>3.781397</td>\n",
              "      <td>3.342878</td>\n",
              "      <td>2.848648</td>\n",
              "      <td>2.844113</td>\n",
              "      <td>3354.826523</td>\n",
              "      <td>6743.485101</td>\n",
              "    </tr>\n",
              "    <tr>\n",
              "      <th>min</th>\n",
              "      <td>121.000000</td>\n",
              "      <td>0.000000</td>\n",
              "      <td>0.000000</td>\n",
              "      <td>23.900000</td>\n",
              "      <td>35.000000</td>\n",
              "      <td>25.077920</td>\n",
              "      <td>37.296270</td>\n",
              "      <td>49232.000000</td>\n",
              "      <td>77244.000000</td>\n",
              "    </tr>\n",
              "    <tr>\n",
              "      <th>25%</th>\n",
              "      <td>1039.000000</td>\n",
              "      <td>0.139689</td>\n",
              "      <td>0.000000</td>\n",
              "      <td>39.700000</td>\n",
              "      <td>51.600000</td>\n",
              "      <td>39.177920</td>\n",
              "      <td>51.802620</td>\n",
              "      <td>50291.000000</td>\n",
              "      <td>79040.000000</td>\n",
              "    </tr>\n",
              "    <tr>\n",
              "      <th>50%</th>\n",
              "      <td>1500.000000</td>\n",
              "      <td>0.157990</td>\n",
              "      <td>0.000000</td>\n",
              "      <td>42.000000</td>\n",
              "      <td>54.000000</td>\n",
              "      <td>41.116910</td>\n",
              "      <td>53.487490</td>\n",
              "      <td>52664.000000</td>\n",
              "      <td>83385.000000</td>\n",
              "    </tr>\n",
              "    <tr>\n",
              "      <th>75%</th>\n",
              "      <td>2001.000000</td>\n",
              "      <td>0.315686</td>\n",
              "      <td>0.000000</td>\n",
              "      <td>45.000000</td>\n",
              "      <td>56.000000</td>\n",
              "      <td>43.056110</td>\n",
              "      <td>55.250770</td>\n",
              "      <td>57236.000000</td>\n",
              "      <td>92562.000000</td>\n",
              "    </tr>\n",
              "    <tr>\n",
              "      <th>max</th>\n",
              "      <td>55372.000000</td>\n",
              "      <td>2.992242</td>\n",
              "      <td>1.338569</td>\n",
              "      <td>59.000000</td>\n",
              "      <td>75.900000</td>\n",
              "      <td>54.585210</td>\n",
              "      <td>70.101400</td>\n",
              "      <td>58639.000000</td>\n",
              "      <td>99140.000000</td>\n",
              "    </tr>\n",
              "  </tbody>\n",
              "</table>\n",
              "</div>"
            ],
            "text/plain": [
              "         samplesize       weight  ...       poll_id   question_id\n",
              "count   8985.000000  8985.000000  ...   8985.000000   8985.000000\n",
              "mean    2096.950417     0.385447  ...  53564.050640  85733.409794\n",
              "std     2740.216719     0.473484  ...   3354.826523   6743.485101\n",
              "min      121.000000     0.000000  ...  49232.000000  77244.000000\n",
              "25%     1039.000000     0.139689  ...  50291.000000  79040.000000\n",
              "50%     1500.000000     0.157990  ...  52664.000000  83385.000000\n",
              "75%     2001.000000     0.315686  ...  57236.000000  92562.000000\n",
              "max    55372.000000     2.992242  ...  58639.000000  99140.000000\n",
              "\n",
              "[8 rows x 9 columns]"
            ]
          },
          "metadata": {
            "tags": []
          },
          "execution_count": 73
        }
      ]
    },
    {
      "cell_type": "code",
      "metadata": {
        "id": "oHNTJESjfMGE",
        "colab_type": "code",
        "colab": {
          "base_uri": "https://localhost:8080/",
          "height": 119
        },
        "outputId": "8dfbab3a-94f5-414c-d7f4-e18888a6b87b"
      },
      "source": [
        "df.columns"
      ],
      "execution_count": 47,
      "outputs": [
        {
          "output_type": "execute_result",
          "data": {
            "text/plain": [
              "Index(['president', 'subgroup', 'modeldate', 'startdate', 'enddate',\n",
              "       'pollster', 'grade', 'samplesize', 'population', 'weight', 'influence',\n",
              "       'approve', 'disapprove', 'adjusted_approve', 'adjusted_disapprove',\n",
              "       'multiversions', 'tracking', 'url', 'poll_id', 'question_id',\n",
              "       'createddate', 'timestamp'],\n",
              "      dtype='object')"
            ]
          },
          "metadata": {
            "tags": []
          },
          "execution_count": 47
        }
      ]
    },
    {
      "cell_type": "code",
      "metadata": {
        "id": "9QgnmsmIfPPi",
        "colab_type": "code",
        "colab": {
          "base_uri": "https://localhost:8080/",
          "height": 889
        },
        "outputId": "73022b15-bb6b-455c-a595-57196c1149e5"
      },
      "source": [
        "df.sort_values(by=\"approve\", ascending=False).head(10)\n",
        "#Highest approval ratings are all alongside a \"grade\" column of \"C+\"\" and from \"Rasmussen Reports/Pulse Opinion Research\""
      ],
      "execution_count": 48,
      "outputs": [
        {
          "output_type": "execute_result",
          "data": {
            "text/html": [
              "<div>\n",
              "<style scoped>\n",
              "    .dataframe tbody tr th:only-of-type {\n",
              "        vertical-align: middle;\n",
              "    }\n",
              "\n",
              "    .dataframe tbody tr th {\n",
              "        vertical-align: top;\n",
              "    }\n",
              "\n",
              "    .dataframe thead th {\n",
              "        text-align: right;\n",
              "    }\n",
              "</style>\n",
              "<table border=\"1\" class=\"dataframe\">\n",
              "  <thead>\n",
              "    <tr style=\"text-align: right;\">\n",
              "      <th></th>\n",
              "      <th>president</th>\n",
              "      <th>subgroup</th>\n",
              "      <th>modeldate</th>\n",
              "      <th>startdate</th>\n",
              "      <th>enddate</th>\n",
              "      <th>pollster</th>\n",
              "      <th>grade</th>\n",
              "      <th>samplesize</th>\n",
              "      <th>population</th>\n",
              "      <th>weight</th>\n",
              "      <th>influence</th>\n",
              "      <th>approve</th>\n",
              "      <th>disapprove</th>\n",
              "      <th>adjusted_approve</th>\n",
              "      <th>adjusted_disapprove</th>\n",
              "      <th>multiversions</th>\n",
              "      <th>tracking</th>\n",
              "      <th>url</th>\n",
              "      <th>poll_id</th>\n",
              "      <th>question_id</th>\n",
              "      <th>createddate</th>\n",
              "      <th>timestamp</th>\n",
              "    </tr>\n",
              "  </thead>\n",
              "  <tbody>\n",
              "    <tr>\n",
              "      <th>6151</th>\n",
              "      <td>Donald Trump</td>\n",
              "      <td>Voters</td>\n",
              "      <td>7/10/2019</td>\n",
              "      <td>1/23/2017</td>\n",
              "      <td>1/25/2017</td>\n",
              "      <td>Rasmussen Reports/Pulse Opinion Research</td>\n",
              "      <td>C+</td>\n",
              "      <td>1500.0</td>\n",
              "      <td>lv</td>\n",
              "      <td>0.204770</td>\n",
              "      <td>0.0</td>\n",
              "      <td>59.0</td>\n",
              "      <td>41.0</td>\n",
              "      <td>54.58521</td>\n",
              "      <td>41.67927</td>\n",
              "      <td>NaN</td>\n",
              "      <td>T</td>\n",
              "      <td>http://www.rasmussenreports.com/public_content...</td>\n",
              "      <td>49247</td>\n",
              "      <td>77259</td>\n",
              "      <td>1/26/2017</td>\n",
              "      <td>17:35:13 10 Jul 2019</td>\n",
              "    </tr>\n",
              "    <tr>\n",
              "      <th>8</th>\n",
              "      <td>Donald Trump</td>\n",
              "      <td>All polls</td>\n",
              "      <td>7/10/2019</td>\n",
              "      <td>1/23/2017</td>\n",
              "      <td>1/25/2017</td>\n",
              "      <td>Rasmussen Reports/Pulse Opinion Research</td>\n",
              "      <td>C+</td>\n",
              "      <td>1500.0</td>\n",
              "      <td>lv</td>\n",
              "      <td>0.204770</td>\n",
              "      <td>0.0</td>\n",
              "      <td>59.0</td>\n",
              "      <td>41.0</td>\n",
              "      <td>53.37431</td>\n",
              "      <td>42.21580</td>\n",
              "      <td>NaN</td>\n",
              "      <td>T</td>\n",
              "      <td>http://www.rasmussenreports.com/public_content...</td>\n",
              "      <td>49247</td>\n",
              "      <td>77259</td>\n",
              "      <td>1/26/2017</td>\n",
              "      <td>17:32:53 10 Jul 2019</td>\n",
              "    </tr>\n",
              "    <tr>\n",
              "      <th>4</th>\n",
              "      <td>Donald Trump</td>\n",
              "      <td>All polls</td>\n",
              "      <td>7/10/2019</td>\n",
              "      <td>1/22/2017</td>\n",
              "      <td>1/24/2017</td>\n",
              "      <td>Rasmussen Reports/Pulse Opinion Research</td>\n",
              "      <td>C+</td>\n",
              "      <td>1500.0</td>\n",
              "      <td>lv</td>\n",
              "      <td>0.220390</td>\n",
              "      <td>0.0</td>\n",
              "      <td>57.0</td>\n",
              "      <td>43.0</td>\n",
              "      <td>51.37431</td>\n",
              "      <td>44.21580</td>\n",
              "      <td>NaN</td>\n",
              "      <td>T</td>\n",
              "      <td>http://www.rasmussenreports.com/public_content...</td>\n",
              "      <td>49266</td>\n",
              "      <td>77278</td>\n",
              "      <td>1/25/2017</td>\n",
              "      <td>17:32:53 10 Jul 2019</td>\n",
              "    </tr>\n",
              "    <tr>\n",
              "      <th>6149</th>\n",
              "      <td>Donald Trump</td>\n",
              "      <td>Voters</td>\n",
              "      <td>7/10/2019</td>\n",
              "      <td>1/22/2017</td>\n",
              "      <td>1/24/2017</td>\n",
              "      <td>Rasmussen Reports/Pulse Opinion Research</td>\n",
              "      <td>C+</td>\n",
              "      <td>1500.0</td>\n",
              "      <td>lv</td>\n",
              "      <td>0.220390</td>\n",
              "      <td>0.0</td>\n",
              "      <td>57.0</td>\n",
              "      <td>43.0</td>\n",
              "      <td>52.58521</td>\n",
              "      <td>43.67927</td>\n",
              "      <td>NaN</td>\n",
              "      <td>T</td>\n",
              "      <td>http://www.rasmussenreports.com/public_content...</td>\n",
              "      <td>49266</td>\n",
              "      <td>77278</td>\n",
              "      <td>1/25/2017</td>\n",
              "      <td>17:35:13 10 Jul 2019</td>\n",
              "    </tr>\n",
              "    <tr>\n",
              "      <th>15</th>\n",
              "      <td>Donald Trump</td>\n",
              "      <td>All polls</td>\n",
              "      <td>7/10/2019</td>\n",
              "      <td>1/24/2017</td>\n",
              "      <td>1/26/2017</td>\n",
              "      <td>Rasmussen Reports/Pulse Opinion Research</td>\n",
              "      <td>C+</td>\n",
              "      <td>1500.0</td>\n",
              "      <td>lv</td>\n",
              "      <td>0.191863</td>\n",
              "      <td>0.0</td>\n",
              "      <td>55.0</td>\n",
              "      <td>45.0</td>\n",
              "      <td>49.37431</td>\n",
              "      <td>46.21580</td>\n",
              "      <td>NaN</td>\n",
              "      <td>T</td>\n",
              "      <td>http://www.rasmussenreports.com/public_content...</td>\n",
              "      <td>49234</td>\n",
              "      <td>77246</td>\n",
              "      <td>1/27/2017</td>\n",
              "      <td>17:32:53 10 Jul 2019</td>\n",
              "    </tr>\n",
              "    <tr>\n",
              "      <th>6207</th>\n",
              "      <td>Donald Trump</td>\n",
              "      <td>Voters</td>\n",
              "      <td>7/10/2019</td>\n",
              "      <td>2/13/2017</td>\n",
              "      <td>2/15/2017</td>\n",
              "      <td>Rasmussen Reports/Pulse Opinion Research</td>\n",
              "      <td>C+</td>\n",
              "      <td>1500.0</td>\n",
              "      <td>lv</td>\n",
              "      <td>0.136004</td>\n",
              "      <td>0.0</td>\n",
              "      <td>55.0</td>\n",
              "      <td>45.0</td>\n",
              "      <td>50.58521</td>\n",
              "      <td>45.67927</td>\n",
              "      <td>NaN</td>\n",
              "      <td>T</td>\n",
              "      <td>http://www.rasmussenreports.com/public_content...</td>\n",
              "      <td>49302</td>\n",
              "      <td>77318</td>\n",
              "      <td>2/16/2017</td>\n",
              "      <td>17:35:13 10 Jul 2019</td>\n",
              "    </tr>\n",
              "    <tr>\n",
              "      <th>6209</th>\n",
              "      <td>Donald Trump</td>\n",
              "      <td>Voters</td>\n",
              "      <td>7/10/2019</td>\n",
              "      <td>2/14/2017</td>\n",
              "      <td>2/16/2017</td>\n",
              "      <td>Rasmussen Reports/Pulse Opinion Research</td>\n",
              "      <td>C+</td>\n",
              "      <td>1500.0</td>\n",
              "      <td>lv</td>\n",
              "      <td>0.136063</td>\n",
              "      <td>0.0</td>\n",
              "      <td>55.0</td>\n",
              "      <td>45.0</td>\n",
              "      <td>50.58521</td>\n",
              "      <td>45.67927</td>\n",
              "      <td>NaN</td>\n",
              "      <td>T</td>\n",
              "      <td>http://www.rasmussenreports.com/public_content...</td>\n",
              "      <td>49300</td>\n",
              "      <td>77316</td>\n",
              "      <td>2/17/2017</td>\n",
              "      <td>17:35:13 10 Jul 2019</td>\n",
              "    </tr>\n",
              "    <tr>\n",
              "      <th>6154</th>\n",
              "      <td>Donald Trump</td>\n",
              "      <td>Voters</td>\n",
              "      <td>7/10/2019</td>\n",
              "      <td>1/24/2017</td>\n",
              "      <td>1/26/2017</td>\n",
              "      <td>Rasmussen Reports/Pulse Opinion Research</td>\n",
              "      <td>C+</td>\n",
              "      <td>1500.0</td>\n",
              "      <td>lv</td>\n",
              "      <td>0.191863</td>\n",
              "      <td>0.0</td>\n",
              "      <td>55.0</td>\n",
              "      <td>45.0</td>\n",
              "      <td>50.58521</td>\n",
              "      <td>45.67927</td>\n",
              "      <td>NaN</td>\n",
              "      <td>T</td>\n",
              "      <td>http://www.rasmussenreports.com/public_content...</td>\n",
              "      <td>49234</td>\n",
              "      <td>77246</td>\n",
              "      <td>1/27/2017</td>\n",
              "      <td>17:35:13 10 Jul 2019</td>\n",
              "    </tr>\n",
              "    <tr>\n",
              "      <th>94</th>\n",
              "      <td>Donald Trump</td>\n",
              "      <td>All polls</td>\n",
              "      <td>7/10/2019</td>\n",
              "      <td>2/14/2017</td>\n",
              "      <td>2/16/2017</td>\n",
              "      <td>Rasmussen Reports/Pulse Opinion Research</td>\n",
              "      <td>C+</td>\n",
              "      <td>1500.0</td>\n",
              "      <td>lv</td>\n",
              "      <td>0.136063</td>\n",
              "      <td>0.0</td>\n",
              "      <td>55.0</td>\n",
              "      <td>45.0</td>\n",
              "      <td>49.37431</td>\n",
              "      <td>46.21580</td>\n",
              "      <td>NaN</td>\n",
              "      <td>T</td>\n",
              "      <td>http://www.rasmussenreports.com/public_content...</td>\n",
              "      <td>49300</td>\n",
              "      <td>77316</td>\n",
              "      <td>2/17/2017</td>\n",
              "      <td>17:32:53 10 Jul 2019</td>\n",
              "    </tr>\n",
              "    <tr>\n",
              "      <th>89</th>\n",
              "      <td>Donald Trump</td>\n",
              "      <td>All polls</td>\n",
              "      <td>7/10/2019</td>\n",
              "      <td>2/13/2017</td>\n",
              "      <td>2/15/2017</td>\n",
              "      <td>Rasmussen Reports/Pulse Opinion Research</td>\n",
              "      <td>C+</td>\n",
              "      <td>1500.0</td>\n",
              "      <td>lv</td>\n",
              "      <td>0.136004</td>\n",
              "      <td>0.0</td>\n",
              "      <td>55.0</td>\n",
              "      <td>45.0</td>\n",
              "      <td>49.37431</td>\n",
              "      <td>46.21580</td>\n",
              "      <td>NaN</td>\n",
              "      <td>T</td>\n",
              "      <td>http://www.rasmussenreports.com/public_content...</td>\n",
              "      <td>49302</td>\n",
              "      <td>77318</td>\n",
              "      <td>2/16/2017</td>\n",
              "      <td>17:32:53 10 Jul 2019</td>\n",
              "    </tr>\n",
              "  </tbody>\n",
              "</table>\n",
              "</div>"
            ],
            "text/plain": [
              "         president   subgroup  ... createddate             timestamp\n",
              "6151  Donald Trump     Voters  ...   1/26/2017  17:35:13 10 Jul 2019\n",
              "8     Donald Trump  All polls  ...   1/26/2017  17:32:53 10 Jul 2019\n",
              "4     Donald Trump  All polls  ...   1/25/2017  17:32:53 10 Jul 2019\n",
              "6149  Donald Trump     Voters  ...   1/25/2017  17:35:13 10 Jul 2019\n",
              "15    Donald Trump  All polls  ...   1/27/2017  17:32:53 10 Jul 2019\n",
              "6207  Donald Trump     Voters  ...   2/16/2017  17:35:13 10 Jul 2019\n",
              "6209  Donald Trump     Voters  ...   2/17/2017  17:35:13 10 Jul 2019\n",
              "6154  Donald Trump     Voters  ...   1/27/2017  17:35:13 10 Jul 2019\n",
              "94    Donald Trump  All polls  ...   2/17/2017  17:32:53 10 Jul 2019\n",
              "89    Donald Trump  All polls  ...   2/16/2017  17:32:53 10 Jul 2019\n",
              "\n",
              "[10 rows x 22 columns]"
            ]
          },
          "metadata": {
            "tags": []
          },
          "execution_count": 48
        }
      ]
    },
    {
      "cell_type": "code",
      "metadata": {
        "id": "TGUS79cOhPWj",
        "colab_type": "code",
        "colab": {
          "base_uri": "https://localhost:8080/",
          "height": 1000
        },
        "outputId": "d242597e-8585-445c-da36-4b6d9725457f"
      },
      "source": [
        "df.enddate.sort_values(ascending=False)\n",
        "#Data isn't in order by year so we would need to clean this to analyze\n",
        "#how Trump's approval ratings may have changed over time"
      ],
      "execution_count": 49,
      "outputs": [
        {
          "output_type": "execute_result",
          "data": {
            "text/plain": [
              "5352     9/9/2018\n",
              "7737     9/9/2018\n",
              "5351     9/9/2018\n",
              "5344     9/9/2018\n",
              "2293     9/9/2018\n",
              "2291     9/9/2018\n",
              "5342     9/9/2018\n",
              "5341     9/9/2018\n",
              "2290     9/9/2018\n",
              "5353     9/9/2018\n",
              "2288     9/9/2018\n",
              "2286     9/9/2018\n",
              "7745     9/9/2018\n",
              "7743     9/9/2018\n",
              "7742     9/9/2018\n",
              "7739     9/9/2018\n",
              "2284     9/9/2018\n",
              "5349     9/9/2018\n",
              "7735     9/9/2018\n",
              "7734     9/9/2018\n",
              "2281     9/9/2018\n",
              "2280     9/9/2018\n",
              "7746     9/9/2018\n",
              "2277     9/9/2018\n",
              "2275     9/9/2018\n",
              "7748     9/9/2018\n",
              "2296     9/9/2018\n",
              "4345     9/9/2017\n",
              "4344     9/9/2017\n",
              "4343     9/9/2017\n",
              "          ...    \n",
              "2849    1/10/2019\n",
              "2828    1/10/2019\n",
              "8221    1/10/2019\n",
              "4717    1/10/2018\n",
              "1353    1/10/2018\n",
              "1359    1/10/2018\n",
              "1366    1/10/2018\n",
              "1368    1/10/2018\n",
              "1371    1/10/2018\n",
              "1374    1/10/2018\n",
              "1375    1/10/2018\n",
              "4715    1/10/2018\n",
              "4712    1/10/2018\n",
              "7019    1/10/2018\n",
              "4709    1/10/2018\n",
              "4704    1/10/2018\n",
              "7016    1/10/2018\n",
              "7013    1/10/2018\n",
              "7022    1/10/2018\n",
              "2798     1/1/2019\n",
              "5680     1/1/2019\n",
              "5676     1/1/2019\n",
              "8194     1/1/2019\n",
              "5682     1/1/2019\n",
              "5681     1/1/2019\n",
              "8196     1/1/2019\n",
              "2807     1/1/2019\n",
              "2803     1/1/2019\n",
              "8197     1/1/2019\n",
              "2802     1/1/2019\n",
              "Name: enddate, Length: 8985, dtype: object"
            ]
          },
          "metadata": {
            "tags": []
          },
          "execution_count": 49
        }
      ]
    },
    {
      "cell_type": "code",
      "metadata": {
        "id": "cxwYeTy3iitw",
        "colab_type": "code",
        "colab": {
          "base_uri": "https://localhost:8080/",
          "height": 434
        },
        "outputId": "b763ee1a-4318-420d-f017-297914aeea9e"
      },
      "source": [
        "df.groupby('grade').approve.mean().plot(kind='bar', figsize=(20,6))\n",
        "#Illustrates how the lower grade almost seems to correlate with a higher percentage of approval"
      ],
      "execution_count": 50,
      "outputs": [
        {
          "output_type": "execute_result",
          "data": {
            "text/plain": [
              "<matplotlib.axes._subplots.AxesSubplot at 0x7f8506829eb8>"
            ]
          },
          "metadata": {
            "tags": []
          },
          "execution_count": 50
        },
        {
          "output_type": "display_data",
          "data": {
            "image/png": "[encoded data removed]",
            "text/plain": [
              "<Figure size 1440x432 with 1 Axes>"
            ]
          },
          "metadata": {
            "tags": []
          }
        }
      ]
    },
    {
      "cell_type": "code",
      "metadata": {
        "id": "wOHaAAqAjZSe",
        "colab_type": "code",
        "colab": {
          "base_uri": "https://localhost:8080/",
          "height": 269
        },
        "outputId": "2c7ac464-8d5a-4e0f-9a7b-0d36da66536f"
      },
      "source": [
        "df.subgroup.unique()\n",
        "df.samplesize.sort_values()\n",
        "df.samplesize.hist()\n",
        "plt.show()\n",
        "#Nothing exciting here"
      ],
      "execution_count": 65,
      "outputs": [
        {
          "output_type": "display_data",
          "data": {
            "image/png": "[encoded data removed]",
            "text/plain": [
              "<Figure size 432x288 with 1 Axes>"
            ]
          },
          "metadata": {
            "tags": []
          }
        }
      ]
    },
    {
      "cell_type": "code",
      "metadata": {
        "id": "Tfh8Qn4okb7J",
        "colab_type": "code",
        "colab": {
          "base_uri": "https://localhost:8080/",
          "height": 585
        },
        "outputId": "8f53f245-30c0-495b-8879-53bc19b3010f"
      },
      "source": [
        "sns.pairplot(x_vars=[\"samplesize\"], y_vars=[\"approve\"], data=df, height=8)\n",
        "plt.show()\n",
        "#I don't see any correlations. However, the lowest sample sizes have the \n",
        "#greatest outliers in terms of approval rating\n"
      ],
      "execution_count": 74,
      "outputs": [
        {
          "output_type": "display_data",
          "data": {
            "image/png": "[encoded data removed]",
            "text/plain": [
              "<Figure size 576x576 with 1 Axes>"
            ]
          },
          "metadata": {
            "tags": []
          }
        }
      ]
    },
    {
      "cell_type": "code",
      "metadata": {
        "id": "vhQzsB8FmTs2",
        "colab_type": "code",
        "colab": {
          "base_uri": "https://localhost:8080/",
          "height": 420
        },
        "outputId": "293b7039-cdef-4f29-84d0-8dc25fdc0a27"
      },
      "source": [
        "df.boxplot(column='approve', by='population', figsize=(10,6))\n",
        "\n",
        "plt.xlabel(\"Voter Type (Registered, Likely, General Adult)\")\n",
        "plt.ylabel(\"Approval\")\n",
        "plt.title(\"Average Approval Based on Voter Type\")\n",
        "plt.show()\n",
        "\n",
        "#The general population appears to have a slightly lower approval rating of the US President\n",
        "#than likely voters and registered voters\n"
      ],
      "execution_count": 70,
      "outputs": [
        {
          "output_type": "display_data",
          "data": {
            "image/png": "[encoded data removed]",
            "text/plain": [
              "<Figure size 720x432 with 1 Axes>"
            ]
          },
          "metadata": {
            "tags": []
          }
        }
      ]
    },
    {
      "cell_type": "markdown",
      "metadata": {
        "id": "BT9gdS7viJZa",
        "colab_type": "text"
      },
      "source": [
        "### Assignment questions\n",
        "\n",
        "After you've worked on some code, answer the following questions in this text block:\n",
        "\n",
        "1.  Describe in a paragraph of text what you did and why, as if you were writing an email to somebody interested but nontechnical.\n",
        "\n",
        "2.  What was the most challenging part of what you did?\n",
        "\n",
        "3.  What was the most interesting thing you learned?\n",
        "\n",
        "4.  What area would you like to explore with more time?\n",
        "\n",
        "\n"
      ]
    },
    {
      "cell_type": "code",
      "metadata": {
        "id": "VmChRi0umTJ7",
        "colab_type": "code",
        "colab": {}
      },
      "source": [
        ""
      ],
      "execution_count": 0,
      "outputs": []
    },
    {
      "cell_type": "markdown",
      "metadata": {
        "id": "CfQ5rHBiuX7Z",
        "colab_type": "text"
      },
      "source": [
        "1. What I decided to was take a look at Donald Trump's approval ratings and see if I could find any correlations with other aspects of the data. As you can see I tried visualizing the data through a boxplot, a histogram, and a scatterpoint graph. There could possibly be correlations with approval based on whether or not they are a registered voter, whether the sample size was large or not, and whether the pollster gave the president a high grade. \n",
        "2. The most challenging part is finding interesting things of note in the data and following through. Many times your graphs and calculations don't add up to anythintg exciting.\n",
        "3. The most interesting thing I observed was seeing a boxplot that had interesting differences within it.\n",
        "4. I would like to explore another dataset and merge this one with that one."
      ]
    },
    {
      "cell_type": "markdown",
      "metadata": {
        "id": "_XXg2crAipwP",
        "colab_type": "text"
      },
      "source": [
        "## Stretch goals and resources\n",
        "\n",
        "Following are *optional* things for you to take a look at. Focus on the above assignment first, and make sure to commit and push your changes to GitHub (and since this is the first assignment of the sprint, open a PR as well).\n",
        "\n",
        "- [pandas documentation](https://pandas.pydata.org/pandas-docs/stable/)\n",
        "- [scikit-learn documentation](http://scikit-learn.org/stable/documentation.html)\n",
        "- [matplotlib documentation](https://matplotlib.org/contents.html)\n",
        "- [Awesome Data Science](https://github.com/bulutyazilim/awesome-datascience) - a list of many types of DS resources\n",
        "\n",
        "Stretch goals:\n",
        "\n",
        "- Find and read blogs, walkthroughs, and other examples of people working through cool things with data science - and share with your classmates!\n",
        "- Write a blog post (Medium is a popular place to publish) introducing yourself as somebody learning data science, and talking about what you've learned already and what you're excited to learn more about."
      ]
    }
  ]
}
